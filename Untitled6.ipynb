{
  "nbformat": 4,
  "nbformat_minor": 0,
  "metadata": {
    "colab": {
      "provenance": [],
      "authorship_tag": "ABX9TyMkV39Mb9+Xrzfrr42kEVYK",
      "include_colab_link": true
    },
    "kernelspec": {
      "name": "python3",
      "display_name": "Python 3"
    },
    "language_info": {
      "name": "python"
    }
  },
  "cells": [
    {
      "cell_type": "markdown",
      "metadata": {
        "id": "view-in-github",
        "colab_type": "text"
      },
      "source": [
        "<a href=\"https://colab.research.google.com/github/SdeivisR/HTML/blob/main/Untitled6.ipynb\" target=\"_parent\"><img src=\"https://colab.research.google.com/assets/colab-badge.svg\" alt=\"Open In Colab\"/></a>"
      ]
    },
    {
      "source": [
        "from IPython import get_ipython\n",
        "from IPython.display import display\n",
        "# %%\n",
        "base = float(input(\"Ingrese la base del triángulo: \"))\n",
        "altura = float(input(\"Ingrese la altura del triángulo: \"))\n",
        "area = (base * altura) / 2\n",
        "print(area)"
      ],
      "cell_type": "code",
      "metadata": {
        "colab": {
          "base_uri": "https://localhost:8080/",
          "height": 0
        },
        "id": "bcDtfBCjt1Ug",
        "outputId": "9d3ddb6a-b365-42d5-9104-23e4e51eb880"
      },
      "execution_count": 6,
      "outputs": [
        {
          "output_type": "stream",
          "name": "stdout",
          "text": [
            "Ingrese la base del triángulo: 3\n",
            "Ingrese la altura del triángulo: 2\n",
            "3.0\n"
          ]
        }
      ]
    },
    {
      "cell_type": "code",
      "source": [
        "from IPython import get_ipython\n",
        "from IPython.display import display\n",
        "\n",
        "# %%\n",
        "celsius = float(input(\"Ingrese la temperatura en grados Celsius: \"))\n",
        "fahrenheit = (celsius * 9/5) + 32\n",
        "print(f\"{celsius:.2f} grados Celsius equivalen a {fahrenheit:.2f} grados Fahrenheit.\")"
      ],
      "metadata": {
        "colab": {
          "base_uri": "https://localhost:8080/",
          "height": 0
        },
        "id": "jefTXeJOt_6X",
        "outputId": "e7da08a4-9ea1-4b88-9818-417a10a20028"
      },
      "execution_count": 7,
      "outputs": [
        {
          "output_type": "stream",
          "name": "stdout",
          "text": [
            "Ingrese la temperatura en grados Celsius: 15\n",
            "15.00 grados Celsius equivalen a 59.00 grados Fahrenheit.\n"
          ]
        }
      ]
    },
    {
      "cell_type": "code",
      "source": [
        "from IPython import get_ipython\n",
        "from IPython.display import display\n",
        "\n",
        "# %%\n",
        "num1 = float(input(\"Ingrese el primer número: \"))\n",
        "num2 = float(input(\"Ingrese el segundo número: \"))\n",
        "num3 = float(input(\"Ingrese el tercer número: \"))\n",
        "\n",
        "if num1 == num2 or num1 == num3 or num2 == num3:\n",
        "    print(\"Los números deben ser diferentes. Por favor, intente de nuevo.\")\n",
        "else:\n",
        "    mayor = num1\n",
        "    if num2 > mayor:\n",
        "        mayor = num2\n",
        "    if num3 > mayor:\n",
        "        mayor = num3\n",
        "    print(f\"El número mayor es: {mayor}\")"
      ],
      "metadata": {
        "colab": {
          "base_uri": "https://localhost:8080/",
          "height": 0
        },
        "id": "H3U0U9eKuCfv",
        "outputId": "6aeb6a18-2f86-4a9f-d742-dec22ffb4120"
      },
      "execution_count": 8,
      "outputs": [
        {
          "output_type": "stream",
          "name": "stdout",
          "text": [
            "Ingrese el primer número: 1\n",
            "Ingrese el segundo número: 5\n",
            "Ingrese el tercer número: 55\n",
            "El número mayor es: 55.0\n"
          ]
        }
      ]
    },
    {
      "cell_type": "code",
      "source": [
        "from IPython import get_ipython\n",
        "from IPython.display import display\n",
        "\n",
        "# %%\n",
        "monto_total = float(input(\"Ingrese el monto total de la compra (S/): \"))\n",
        "descuento = 0\n",
        "porcentaje_descuento = 0\n",
        "\n",
        "if monto_total > 500:\n",
        "    porcentaje_descuento = 0.20\n",
        "elif 200 <= monto_total <= 500:\n",
        "    porcentaje_descuento = 0.10\n",
        "# Si es menor a S/200, porcentaje_descuento ya es 0, no se necesita un 'else' explícito aquí.\n",
        "\n",
        "descuento = monto_total * porcentaje_descuento\n",
        "monto_final = monto_total - descuento\n",
        "\n",
        "print(f\"Monto original: S/{monto_total:.2f}\")\n",
        "if porcentaje_descuento > 0:\n",
        "    print(f\"Descuento aplicado: {porcentaje_descuento*100:.0f}% (S/{descuento:.2f})\")\n",
        "else:\n",
        "    print(\"No se aplica descuento.\")\n",
        "print(f\"Monto final a pagar: S/{monto_final:.2f}\")"
      ],
      "metadata": {
        "colab": {
          "base_uri": "https://localhost:8080/",
          "height": 0
        },
        "id": "dOfjWqAAuG3H",
        "outputId": "e567c1c0-bc9f-46e0-828e-51c0d2e58c92"
      },
      "execution_count": 9,
      "outputs": [
        {
          "output_type": "stream",
          "name": "stdout",
          "text": [
            "Ingrese el monto total de la compra (S/): 200\n",
            "Monto original: S/200.00\n",
            "Descuento aplicado: 10% (S/20.00)\n",
            "Monto final a pagar: S/180.00\n"
          ]
        }
      ]
    },
    {
      "cell_type": "code",
      "source": [
        "from IPython import get_ipython\n",
        "from IPython.display import display\n",
        "\n",
        "# %%\n",
        "inicio = int(input(\"Ingrese el número de inicio del rango: \"))\n",
        "fin = int(input(\"Ingrese el número de fin del rango: \"))\n",
        "\n",
        "# Aseguramos que 'inicio' sea siempre el menor para el rango\n",
        "if inicio > fin:\n",
        "    print(\"El número de inicio no puede ser mayor que el de fin. Intercambiando valores.\")\n",
        "    inicio, fin = fin, inicio\n",
        "\n",
        "suma_pares = 0\n",
        "numeros_pares_encontrados = []\n",
        "for numero in range(inicio, fin + 1):\n",
        "    if numero % 2 == 0:\n",
        "        suma_pares += numero\n",
        "        numeros_pares_encontrados.append(numero)\n",
        "\n",
        "print(f\"Los números pares en el rango [{inicio}, {fin}] son: {numeros_pares_encontrados}\")\n",
        "print(f\"La suma de los números pares en el rango es: {suma_pares}\")"
      ],
      "metadata": {
        "colab": {
          "base_uri": "https://localhost:8080/",
          "height": 0
        },
        "id": "q-iFVaScuLAw",
        "outputId": "0f89f4ed-c25c-4ecb-e87a-5126ac763e9b"
      },
      "execution_count": 10,
      "outputs": [
        {
          "output_type": "stream",
          "name": "stdout",
          "text": [
            "Ingrese el número de inicio del rango: 50\n",
            "Ingrese el número de fin del rango: 12\n",
            "El número de inicio no puede ser mayor que el de fin. Intercambiando valores.\n",
            "Los números pares en el rango [12, 50] son: [12, 14, 16, 18, 20, 22, 24, 26, 28, 30, 32, 34, 36, 38, 40, 42, 44, 46, 48, 50]\n",
            "La suma de los números pares en el rango es: 620\n"
          ]
        }
      ]
    }
  ]
}